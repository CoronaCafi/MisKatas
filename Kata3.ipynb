{
 "cells": [
  {
   "cell_type": "markdown",
   "metadata": {},
   "source": [
    "Ejercicio 1; if, else"
   ]
  },
  {
   "cell_type": "code",
   "execution_count": 5,
   "metadata": {},
   "outputs": [
    {
     "name": "stdout",
     "output_type": "stream",
     "text": [
      "¡El Asteroide viene a una velocidad de 49 Km/s, Todos Moriremos!\n"
     ]
    }
   ],
   "source": [
    "VelocidadAsteroide = 49\n",
    "\n",
    "if VelocidadAsteroide > 25 :\n",
    "    print(\"¡El Asteroide viene a una velocidad de \" + str(VelocidadAsteroide) + \" Km/s, Todos Moriremos!\")\n",
    "else:\n",
    "    print(\"Estamos Seguros\")"
   ]
  },
  {
   "cell_type": "markdown",
   "metadata": {},
   "source": [
    "Ejercicio 2;  elif"
   ]
  },
  {
   "cell_type": "code",
   "execution_count": 6,
   "metadata": {},
   "outputs": [
    {
     "name": "stdout",
     "output_type": "stream",
     "text": [
      "si no, Pues no hay nada\n"
     ]
    }
   ],
   "source": [
    "asteroide = 19\n",
    "if asteroide > 20:\n",
    "    print('si es Mayor a 20 hay una luz!')\n",
    "elif asteroide == 20:\n",
    "    print('si es Igual a 20 hay una luz!')\n",
    "else:\n",
    "    print(\"si no, Pues no hay nada\")"
   ]
  },
  {
   "cell_type": "markdown",
   "metadata": {},
   "source": [
    "Ejercicio 3; and y or"
   ]
  },
  {
   "cell_type": "code",
   "execution_count": 9,
   "metadata": {},
   "outputs": [
    {
     "name": "stdout",
     "output_type": "stream",
     "text": [
      "Mucho Daño!\n"
     ]
    }
   ],
   "source": [
    "VelocidadAsteroide = 25\n",
    "TaAsteroide = 40\n",
    "if VelocidadAsteroide > 25 and TaAsteroide > 25:\n",
    "    print('Cuidadooo el asteroide es peligroso')\n",
    "if VelocidadAsteroide > 25 or TaAsteroide < 1000:\n",
    "    print('Mucho Daño!')\n",
    "elif VelocidadAsteroide >= 20:\n",
    "    print('una Luz!')\n",
    "elif TaAsteroide < 25:\n",
    "    print('se quemooo :<')\n",
    "else:\n",
    "    print('ninguna de las anteriores')"
   ]
  }
 ],
 "metadata": {
  "interpreter": {
   "hash": "cd53a6e895c904a446245fc5840d2a9421c19a3a58dc63810b65f7cb1fcb9905"
  },
  "kernelspec": {
   "display_name": "Python 3.9.10 64-bit (windows store)",
   "language": "python",
   "name": "python3"
  },
  "language_info": {
   "codemirror_mode": {
    "name": "ipython",
    "version": 3
   },
   "file_extension": ".py",
   "mimetype": "text/x-python",
   "name": "python",
   "nbconvert_exporter": "python",
   "pygments_lexer": "ipython3",
   "version": "3.10.2"
  },
  "orig_nbformat": 4
 },
 "nbformat": 4,
 "nbformat_minor": 2
}
