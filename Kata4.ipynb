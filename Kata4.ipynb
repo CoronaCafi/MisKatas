{
 "cells": [
  {
   "cell_type": "markdown",
   "metadata": {},
   "source": [
    "Ejercicio 1; Cadenas"
   ]
  },
  {
   "cell_type": "code",
   "execution_count": 3,
   "metadata": {},
   "outputs": [
    {
     "name": "stdout",
     "output_type": "stream",
     "text": [
      "\n",
      "On average, the Moon moves 4cm away from the Earth every year.\n",
      "This yearly drift is not significant enough to cause immediate effects on Earth.\n",
      "The highest daylight temperature of the Moon is 127 Celsius.\n"
     ]
    }
   ],
   "source": [
    "text = \"\"\"Interesting facts about the Moon. The Moon is Earth's only satellite.\n",
    "There are several interesting facts about the Moon and how it affects life here on Earth. \n",
    "On average, the Moon moves 4cm away from the Earth every year.\n",
    "This yearly drift is not significant enough to cause immediate effects on Earth.\n",
    "The highest daylight temperature of the Moon is 127 C.\"\"\"\n",
    "\n",
    "CadenitaImportante = [\"average\", \"temperature\", \"distance\"]\n",
    "\n",
    "dividir = text.split(\". \")\n",
    "dividir\n",
    "\n",
    "for Parrafo in dividir:\n",
    "    for PalabraImportante in CadenitaImportante:\n",
    "        if PalabraImportante in Parrafo:\n",
    "            #print (Parrafo)\n",
    "            print (Parrafo.replace (\"C\", \"Celsius\"))\n",
    "            break\n",
    "\n"
   ]
  },
  {
   "cell_type": "markdown",
   "metadata": {},
   "source": [
    "Ejercicio 2; Formatos en Cadenas"
   ]
  },
  {
   "cell_type": "code",
   "execution_count": 9,
   "metadata": {},
   "outputs": [
    {
     "name": "stdout",
     "output_type": "stream",
     "text": [
      "-------------------------------------------------------------------------------- \n",
      "Nombre del planeta: Tierra \n",
      "Gravedad en La Luna: 1.6199999999999999 m/s2 \n",
      "\n",
      "\n",
      "Datos de Gravedad sobre: La Luna\n",
      "-------------------------------------------------------------------------------\n",
      "Nombre del planeta: Tierra\n",
      "Gravedad en La Luna: 1.6199999999999999 m/s2\n",
      "\n"
     ]
    }
   ],
   "source": [
    "name = \"La Luna\"\n",
    "gravity = 0.00162 # kms\n",
    "planet = \"Tierra\"\n",
    "\n",
    "title = f'datos de gravedad sobre {name}'\n",
    "hechos = f\"\"\"{'-'*80} \n",
    "Nombre del planeta: {planet} \n",
    "Gravedad en {name}: {gravity * 1000} m/s2 \n",
    "\"\"\"\n",
    "\n",
    "template = f\"\"\"{title.title()} \n",
    "{hechos} \n",
    "\"\"\" \n",
    "print(hechos)\n",
    "\n",
    "new_template = \"\"\"\n",
    "Datos de Gravedad sobre: {nombre}\n",
    "-------------------------------------------------------------------------------\n",
    "Nombre del planeta: {planeta}\n",
    "Gravedad en {nombre}: {gravedad} m/s2\n",
    "\"\"\"\n",
    "#print(new_template.format(nombre=name, planeta=planet, gravedad=gravity))\n",
    "\n",
    "print(new_template.format(nombre=name, planeta=planet, gravedad=gravity*1000))"
   ]
  }
 ],
 "metadata": {
  "interpreter": {
   "hash": "1021e2dafd7ddfb5366b72682b83673484aff5319faee617e730571d95d1a296"
  },
  "kernelspec": {
   "display_name": "Python 3.10.2 64-bit",
   "language": "python",
   "name": "python3"
  },
  "language_info": {
   "codemirror_mode": {
    "name": "ipython",
    "version": 3
   },
   "file_extension": ".py",
   "mimetype": "text/x-python",
   "name": "python",
   "nbconvert_exporter": "python",
   "pygments_lexer": "ipython3",
   "version": "3.10.2"
  },
  "orig_nbformat": 4
 },
 "nbformat": 4,
 "nbformat_minor": 2
}
