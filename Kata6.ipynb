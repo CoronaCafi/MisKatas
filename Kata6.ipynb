{
 "cells": [
  {
   "cell_type": "markdown",
   "metadata": {},
   "source": [
    "Ejercicio 1; Listas"
   ]
  },
  {
   "cell_type": "code",
   "execution_count": null,
   "metadata": {},
   "outputs": [],
   "source": [
    "planets = [\"Mercurio\", \"Venus\", \"Tierra\",\n",
    "\"Marte\", \"Jupiter\", \"Saturno\", \"Urano\", \"Neptuno\"]\n",
    "\n",
    "planets.append('Pluto')\n",
    "\n",
    "print(planets[-1], 'Es el ultimo planeta')\n"
   ]
  },
  {
   "cell_type": "markdown",
   "metadata": {},
   "source": [
    "Ejercicio 2; Listas otra vez"
   ]
  },
  {
   "cell_type": "code",
   "execution_count": 5,
   "metadata": {},
   "outputs": [
    {
     "name": "stdout",
     "output_type": "stream",
     "text": [
      "Estos van antes de Jupiter\n",
      "['Mercurio', 'Venus', 'Tierra', 'Marte']\n",
      "Estos van despues de Jupiter\n",
      "['Saturno', 'Urano', 'Neptuno']\n"
     ]
    }
   ],
   "source": [
    "planets = [\"Mercurio\", \"Venus\", \"Tierra\", \"Marte\", \"Jupiter\", \"Saturno\", \"Urano\", \"Neptuno\", \"Pluton\"]\n",
    "Planeta1 = input('Dame el Nombre de un Planeta')\n",
    "\n",
    "planetsIndice = planets.index(Planeta1)\n",
    "print(\"Estos van antes de \" + Planeta1)\n",
    "print(planets[0:planetsIndice])\n",
    "\n",
    "print(\"Estos van despues de \" + Planeta1)\n",
    "print(planets[planetsIndice + 1:])\n",
    "\n",
    "#Este si se me hizo mas dificil que los demas y_y"
   ]
  }
 ],
 "metadata": {
  "interpreter": {
   "hash": "1021e2dafd7ddfb5366b72682b83673484aff5319faee617e730571d95d1a296"
  },
  "kernelspec": {
   "display_name": "Python 3.10.2 64-bit",
   "language": "python",
   "name": "python3"
  },
  "language_info": {
   "codemirror_mode": {
    "name": "ipython",
    "version": 3
   },
   "file_extension": ".py",
   "mimetype": "text/x-python",
   "name": "python",
   "nbconvert_exporter": "python",
   "pygments_lexer": "ipython3",
   "version": "3.10.2"
  },
  "orig_nbformat": 4
 },
 "nbformat": 4,
 "nbformat_minor": 2
}
