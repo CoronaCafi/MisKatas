{
 "cells": [
  {
   "cell_type": "markdown",
   "metadata": {},
   "source": [
    "Ejercicio 1: Aritmetica"
   ]
  },
  {
   "cell_type": "code",
   "execution_count": 3,
   "metadata": {},
   "outputs": [
    {
     "name": "stdout",
     "output_type": "stream",
     "text": [
      "La distancia entre la Tierra y Jupiter en Km es: 628949330 y en Millas es 390577533.93\n"
     ]
    }
   ],
   "source": [
    "Tierra = 149597870\n",
    "Jupiter = 778547200\n",
    "\n",
    "Distancia = Jupiter - Tierra\n",
    "Millas = Distancia * 0.621\n",
    "print (\"La distancia entre la Tierra y Jupiter en Km es: \"+ str(Distancia) + \" y en Millas es \" + str(Millas)) \n"
   ]
  },
  {
   "cell_type": "markdown",
   "metadata": {},
   "source": [
    "Ejercicio 2: Cadenas y Numeros"
   ]
  },
  {
   "cell_type": "code",
   "execution_count": 7,
   "metadata": {},
   "outputs": [
    {
     "name": "stdout",
     "output_type": "stream",
     "text": [
      "689.31\n",
      "La distancia entre los Planetas en Km es: -1110 y en Millas es -689.31\n"
     ]
    }
   ],
   "source": [
    "Planeta1 = input('Primer Planeta: Ingresa la distancia en Kilometros')\n",
    "Planeta2 = input('Segundo Planeta: Ingresa la distancia en Kilometros')\n",
    "\n",
    "Planeta1 = int(Planeta1)\n",
    "Planeta2 = int(Planeta2)\n",
    "\n",
    "Kilometros = Planeta2 - Planeta1\n",
    "Millas = Kilometros * 0.621\n",
    "\n",
    "print (\"La distancia entre los Planetas en Km es: \"+ str(Kilometros) + \" y en Millas es \" + str(Millas)) "
   ]
  }
 ],
 "metadata": {
  "interpreter": {
   "hash": "1021e2dafd7ddfb5366b72682b83673484aff5319faee617e730571d95d1a296"
  },
  "kernelspec": {
   "display_name": "Python 3.10.2 64-bit",
   "language": "python",
   "name": "python3"
  },
  "language_info": {
   "codemirror_mode": {
    "name": "ipython",
    "version": 3
   },
   "file_extension": ".py",
   "mimetype": "text/x-python",
   "name": "python",
   "nbconvert_exporter": "python",
   "pygments_lexer": "ipython3",
   "version": "3.10.2"
  },
  "orig_nbformat": 4
 },
 "nbformat": 4,
 "nbformat_minor": 2
}
