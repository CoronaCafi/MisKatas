{
 "cells": [
  {
   "cell_type": "markdown",
   "metadata": {},
   "source": [
    "Ejercicio 1; while"
   ]
  },
  {
   "cell_type": "code",
   "execution_count": 3,
   "metadata": {},
   "outputs": [
    {
     "name": "stdout",
     "output_type": "stream",
     "text": [
      "uno \n",
      "dos \n",
      "tres\n",
      "done\n",
      "['uno ', 'dos ', 'tres']\n"
     ]
    }
   ],
   "source": [
    "NewPlanet = \"\"\n",
    "Planetas = []\n",
    "\n",
    "while NewPlanet.lower() != 'done':\n",
    "    if NewPlanet:\n",
    "        Planetas.append(NewPlanet)\n",
    "    NewPlanet = input('Ingresa un nuevo Planeta ')\n",
    "\n",
    "    print(NewPlanet)\n",
    "\n",
    "    if NewPlanet == \"done\" :\n",
    "        print(Planetas)"
   ]
  },
  {
   "cell_type": "markdown",
   "metadata": {},
   "source": [
    "Ejercicio 2; for"
   ]
  },
  {
   "cell_type": "code",
   "execution_count": 7,
   "metadata": {},
   "outputs": [
    {
     "name": "stdout",
     "output_type": "stream",
     "text": [
      "Mercurio\n",
      "Venus\n",
      "Tierra\n",
      "Marte\n",
      "Jupiter\n",
      "Saturno\n",
      "Urano\n",
      "Neptuno\n",
      "Pluton\n"
     ]
    }
   ],
   "source": [
    "Planetas = [\"Mercurio\", \"Venus\", \"Tierra\", \"Marte\", \"Jupiter\", \"Saturno\", \"Urano\", \"Neptuno\", \"Pluton\"]\n",
    "for Planeta in Planetas:\n",
    "    print(Planeta)"
   ]
  }
 ],
 "metadata": {
  "interpreter": {
   "hash": "1021e2dafd7ddfb5366b72682b83673484aff5319faee617e730571d95d1a296"
  },
  "kernelspec": {
   "display_name": "Python 3.10.2 64-bit",
   "language": "python",
   "name": "python3"
  },
  "language_info": {
   "codemirror_mode": {
    "name": "ipython",
    "version": 3
   },
   "file_extension": ".py",
   "mimetype": "text/x-python",
   "name": "python",
   "nbconvert_exporter": "python",
   "pygments_lexer": "ipython3",
   "version": "3.10.2"
  },
  "orig_nbformat": 4
 },
 "nbformat": 4,
 "nbformat_minor": 2
}
